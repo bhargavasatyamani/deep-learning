{
  "nbformat": 4,
  "nbformat_minor": 0,
  "metadata": {
    "kernelspec": {
      "display_name": "Python 3",
      "language": "python",
      "name": "python3"
    },
    "language_info": {
      "codemirror_mode": {
        "name": "ipython",
        "version": 3
      },
      "file_extension": ".py",
      "mimetype": "text/x-python",
      "name": "python",
      "nbconvert_exporter": "python",
      "pygments_lexer": "ipython3",
      "version": "3.6.8"
    },
    "colab": {
      "name": "text_sentiment_ngrams_tutorial.ipynb",
      "provenance": [],
      "toc_visible": true
    }
  },
  "cells": [
    {
      "cell_type": "code",
      "metadata": {
        "id": "p4S4rkgBukOq",
        "colab_type": "code",
        "colab": {
          "base_uri": "https://localhost:8080/",
          "height": 173
        },
        "outputId": "20d5f4a1-bf05-49dc-f1de-2af5a1c6f38c"
      },
      "source": [
        "! pip install --upgrade pip"
      ],
      "execution_count": 6,
      "outputs": [
        {
          "output_type": "stream",
          "text": [
            "Collecting pip\n",
            "\u001b[?25l  Downloading https://files.pythonhosted.org/packages/54/0c/d01aa759fdc501a58f431eb594a17495f15b88da142ce14b5845662c13f3/pip-20.0.2-py2.py3-none-any.whl (1.4MB)\n",
            "\r\u001b[K     |▎                               | 10kB 17.8MB/s eta 0:00:01\r\u001b[K     |▌                               | 20kB 1.8MB/s eta 0:00:01\r\u001b[K     |▊                               | 30kB 2.1MB/s eta 0:00:01\r\u001b[K     |█                               | 40kB 1.7MB/s eta 0:00:01\r\u001b[K     |█▏                              | 51kB 1.9MB/s eta 0:00:01\r\u001b[K     |█▍                              | 61kB 2.2MB/s eta 0:00:01\r\u001b[K     |█▋                              | 71kB 2.4MB/s eta 0:00:01\r\u001b[K     |█▉                              | 81kB 2.6MB/s eta 0:00:01\r\u001b[K     |██                              | 92kB 2.9MB/s eta 0:00:01\r\u001b[K     |██▎                             | 102kB 2.8MB/s eta 0:00:01\r\u001b[K     |██▌                             | 112kB 2.8MB/s eta 0:00:01\r\u001b[K     |██▊                             | 122kB 2.8MB/s eta 0:00:01\r\u001b[K     |███                             | 133kB 2.8MB/s eta 0:00:01\r\u001b[K     |███▏                            | 143kB 2.8MB/s eta 0:00:01\r\u001b[K     |███▍                            | 153kB 2.8MB/s eta 0:00:01\r\u001b[K     |███▋                            | 163kB 2.8MB/s eta 0:00:01\r\u001b[K     |███▉                            | 174kB 2.8MB/s eta 0:00:01\r\u001b[K     |████                            | 184kB 2.8MB/s eta 0:00:01\r\u001b[K     |████▎                           | 194kB 2.8MB/s eta 0:00:01\r\u001b[K     |████▌                           | 204kB 2.8MB/s eta 0:00:01\r\u001b[K     |████▊                           | 215kB 2.8MB/s eta 0:00:01\r\u001b[K     |█████                           | 225kB 2.8MB/s eta 0:00:01\r\u001b[K     |█████▎                          | 235kB 2.8MB/s eta 0:00:01\r\u001b[K     |█████▌                          | 245kB 2.8MB/s eta 0:00:01\r\u001b[K     |█████▊                          | 256kB 2.8MB/s eta 0:00:01\r\u001b[K     |██████                          | 266kB 2.8MB/s eta 0:00:01\r\u001b[K     |██████▏                         | 276kB 2.8MB/s eta 0:00:01\r\u001b[K     |██████▍                         | 286kB 2.8MB/s eta 0:00:01\r\u001b[K     |██████▋                         | 296kB 2.8MB/s eta 0:00:01\r\u001b[K     |██████▉                         | 307kB 2.8MB/s eta 0:00:01\r\u001b[K     |███████                         | 317kB 2.8MB/s eta 0:00:01\r\u001b[K     |███████▎                        | 327kB 2.8MB/s eta 0:00:01\r\u001b[K     |███████▌                        | 337kB 2.8MB/s eta 0:00:01\r\u001b[K     |███████▊                        | 348kB 2.8MB/s eta 0:00:01\r\u001b[K     |████████                        | 358kB 2.8MB/s eta 0:00:01\r\u001b[K     |████████▏                       | 368kB 2.8MB/s eta 0:00:01\r\u001b[K     |████████▍                       | 378kB 2.8MB/s eta 0:00:01\r\u001b[K     |████████▋                       | 389kB 2.8MB/s eta 0:00:01\r\u001b[K     |████████▉                       | 399kB 2.8MB/s eta 0:00:01\r\u001b[K     |█████████                       | 409kB 2.8MB/s eta 0:00:01\r\u001b[K     |█████████▎                      | 419kB 2.8MB/s eta 0:00:01\r\u001b[K     |█████████▌                      | 430kB 2.8MB/s eta 0:00:01\r\u001b[K     |█████████▉                      | 440kB 2.8MB/s eta 0:00:01\r\u001b[K     |██████████                      | 450kB 2.8MB/s eta 0:00:01\r\u001b[K     |██████████▎                     | 460kB 2.8MB/s eta 0:00:01\r\u001b[K     |██████████▌                     | 471kB 2.8MB/s eta 0:00:01\r\u001b[K     |██████████▊                     | 481kB 2.8MB/s eta 0:00:01\r\u001b[K     |███████████                     | 491kB 2.8MB/s eta 0:00:01\r\u001b[K     |███████████▏                    | 501kB 2.8MB/s eta 0:00:01\r\u001b[K     |███████████▍                    | 512kB 2.8MB/s eta 0:00:01\r\u001b[K     |███████████▋                    | 522kB 2.8MB/s eta 0:00:01\r\u001b[K     |███████████▉                    | 532kB 2.8MB/s eta 0:00:01\r\u001b[K     |████████████                    | 542kB 2.8MB/s eta 0:00:01\r\u001b[K     |████████████▎                   | 552kB 2.8MB/s eta 0:00:01\r\u001b[K     |████████████▌                   | 563kB 2.8MB/s eta 0:00:01\r\u001b[K     |████████████▊                   | 573kB 2.8MB/s eta 0:00:01\r\u001b[K     |█████████████                   | 583kB 2.8MB/s eta 0:00:01\r\u001b[K     |█████████████▏                  | 593kB 2.8MB/s eta 0:00:01\r\u001b[K     |█████████████▍                  | 604kB 2.8MB/s eta 0:00:01\r\u001b[K     |█████████████▋                  | 614kB 2.8MB/s eta 0:00:01\r\u001b[K     |█████████████▉                  | 624kB 2.8MB/s eta 0:00:01\r\u001b[K     |██████████████                  | 634kB 2.8MB/s eta 0:00:01\r\u001b[K     |██████████████▎                 | 645kB 2.8MB/s eta 0:00:01\r\u001b[K     |██████████████▌                 | 655kB 2.8MB/s eta 0:00:01\r\u001b[K     |██████████████▉                 | 665kB 2.8MB/s eta 0:00:01\r\u001b[K     |███████████████                 | 675kB 2.8MB/s eta 0:00:01\r\u001b[K     |███████████████▎                | 686kB 2.8MB/s eta 0:00:01\r\u001b[K     |███████████████▌                | 696kB 2.8MB/s eta 0:00:01\r\u001b[K     |███████████████▊                | 706kB 2.8MB/s eta 0:00:01\r\u001b[K     |████████████████                | 716kB 2.8MB/s eta 0:00:01\r\u001b[K     |████████████████▏               | 727kB 2.8MB/s eta 0:00:01\r\u001b[K     |████████████████▍               | 737kB 2.8MB/s eta 0:00:01\r\u001b[K     |████████████████▋               | 747kB 2.8MB/s eta 0:00:01\r\u001b[K     |████████████████▉               | 757kB 2.8MB/s eta 0:00:01\r\u001b[K     |█████████████████               | 768kB 2.8MB/s eta 0:00:01\r\u001b[K     |█████████████████▎              | 778kB 2.8MB/s eta 0:00:01\r\u001b[K     |█████████████████▌              | 788kB 2.8MB/s eta 0:00:01\r\u001b[K     |█████████████████▊              | 798kB 2.8MB/s eta 0:00:01\r\u001b[K     |██████████████████              | 808kB 2.8MB/s eta 0:00:01\r\u001b[K     |██████████████████▏             | 819kB 2.8MB/s eta 0:00:01\r\u001b[K     |██████████████████▍             | 829kB 2.8MB/s eta 0:00:01\r\u001b[K     |██████████████████▋             | 839kB 2.8MB/s eta 0:00:01\r\u001b[K     |██████████████████▉             | 849kB 2.8MB/s eta 0:00:01\r\u001b[K     |███████████████████             | 860kB 2.8MB/s eta 0:00:01\r\u001b[K     |███████████████████▎            | 870kB 2.8MB/s eta 0:00:01\r\u001b[K     |███████████████████▋            | 880kB 2.8MB/s eta 0:00:01\r\u001b[K     |███████████████████▉            | 890kB 2.8MB/s eta 0:00:01\r\u001b[K     |████████████████████            | 901kB 2.8MB/s eta 0:00:01\r\u001b[K     |████████████████████▎           | 911kB 2.8MB/s eta 0:00:01\r\u001b[K     |████████████████████▌           | 921kB 2.8MB/s eta 0:00:01\r\u001b[K     |████████████████████▊           | 931kB 2.8MB/s eta 0:00:01\r\u001b[K     |█████████████████████           | 942kB 2.8MB/s eta 0:00:01\r\u001b[K     |█████████████████████▏          | 952kB 2.8MB/s eta 0:00:01\r\u001b[K     |█████████████████████▍          | 962kB 2.8MB/s eta 0:00:01\r\u001b[K     |█████████████████████▋          | 972kB 2.8MB/s eta 0:00:01\r\u001b[K     |█████████████████████▉          | 983kB 2.8MB/s eta 0:00:01\r\u001b[K     |██████████████████████          | 993kB 2.8MB/s eta 0:00:01\r\u001b[K     |██████████████████████▎         | 1.0MB 2.8MB/s eta 0:00:01\r\u001b[K     |██████████████████████▌         | 1.0MB 2.8MB/s eta 0:00:01\r\u001b[K     |██████████████████████▊         | 1.0MB 2.8MB/s eta 0:00:01\r\u001b[K     |███████████████████████         | 1.0MB 2.8MB/s eta 0:00:01\r\u001b[K     |███████████████████████▏        | 1.0MB 2.8MB/s eta 0:00:01\r\u001b[K     |███████████████████████▍        | 1.1MB 2.8MB/s eta 0:00:01\r\u001b[K     |███████████████████████▋        | 1.1MB 2.8MB/s eta 0:00:01\r\u001b[K     |███████████████████████▉        | 1.1MB 2.8MB/s eta 0:00:01\r\u001b[K     |████████████████████████        | 1.1MB 2.8MB/s eta 0:00:01\r\u001b[K     |████████████████████████▎       | 1.1MB 2.8MB/s eta 0:00:01\r\u001b[K     |████████████████████████▋       | 1.1MB 2.8MB/s eta 0:00:01\r\u001b[K     |████████████████████████▉       | 1.1MB 2.8MB/s eta 0:00:01\r\u001b[K     |█████████████████████████       | 1.1MB 2.8MB/s eta 0:00:01\r\u001b[K     |█████████████████████████▎      | 1.1MB 2.8MB/s eta 0:00:01\r\u001b[K     |█████████████████████████▌      | 1.1MB 2.8MB/s eta 0:00:01\r\u001b[K     |█████████████████████████▊      | 1.2MB 2.8MB/s eta 0:00:01\r\u001b[K     |██████████████████████████      | 1.2MB 2.8MB/s eta 0:00:01\r\u001b[K     |██████████████████████████▏     | 1.2MB 2.8MB/s eta 0:00:01\r\u001b[K     |██████████████████████████▍     | 1.2MB 2.8MB/s eta 0:00:01\r\u001b[K     |██████████████████████████▋     | 1.2MB 2.8MB/s eta 0:00:01\r\u001b[K     |██████████████████████████▉     | 1.2MB 2.8MB/s eta 0:00:01\r\u001b[K     |███████████████████████████     | 1.2MB 2.8MB/s eta 0:00:01\r\u001b[K     |███████████████████████████▎    | 1.2MB 2.8MB/s eta 0:00:01\r\u001b[K     |███████████████████████████▌    | 1.2MB 2.8MB/s eta 0:00:01\r\u001b[K     |███████████████████████████▊    | 1.2MB 2.8MB/s eta 0:00:01\r\u001b[K     |████████████████████████████    | 1.3MB 2.8MB/s eta 0:00:01\r\u001b[K     |████████████████████████████▏   | 1.3MB 2.8MB/s eta 0:00:01\r\u001b[K     |████████████████████████████▍   | 1.3MB 2.8MB/s eta 0:00:01\r\u001b[K     |████████████████████████████▋   | 1.3MB 2.8MB/s eta 0:00:01\r\u001b[K     |████████████████████████████▉   | 1.3MB 2.8MB/s eta 0:00:01\r\u001b[K     |█████████████████████████████   | 1.3MB 2.8MB/s eta 0:00:01\r\u001b[K     |█████████████████████████████▍  | 1.3MB 2.8MB/s eta 0:00:01\r\u001b[K     |█████████████████████████████▋  | 1.3MB 2.8MB/s eta 0:00:01\r\u001b[K     |█████████████████████████████▉  | 1.3MB 2.8MB/s eta 0:00:01\r\u001b[K     |██████████████████████████████  | 1.4MB 2.8MB/s eta 0:00:01\r\u001b[K     |██████████████████████████████▎ | 1.4MB 2.8MB/s eta 0:00:01\r\u001b[K     |██████████████████████████████▌ | 1.4MB 2.8MB/s eta 0:00:01\r\u001b[K     |██████████████████████████████▊ | 1.4MB 2.8MB/s eta 0:00:01\r\u001b[K     |███████████████████████████████ | 1.4MB 2.8MB/s eta 0:00:01\r\u001b[K     |███████████████████████████████▏| 1.4MB 2.8MB/s eta 0:00:01\r\u001b[K     |███████████████████████████████▍| 1.4MB 2.8MB/s eta 0:00:01\r\u001b[K     |███████████████████████████████▋| 1.4MB 2.8MB/s eta 0:00:01\r\u001b[K     |███████████████████████████████▉| 1.4MB 2.8MB/s eta 0:00:01\r\u001b[K     |████████████████████████████████| 1.4MB 2.8MB/s \n",
            "\u001b[?25hInstalling collected packages: pip\n",
            "  Found existing installation: pip 19.3.1\n",
            "    Uninstalling pip-19.3.1:\n",
            "      Successfully uninstalled pip-19.3.1\n",
            "Successfully installed pip-20.0.2\n"
          ],
          "name": "stdout"
        }
      ]
    },
    {
      "cell_type": "code",
      "metadata": {
        "id": "lwNzgpxYsfeq",
        "colab_type": "code",
        "colab": {
          "base_uri": "https://localhost:8080/",
          "height": 496
        },
        "outputId": "840eb531-e2d2-4433-911a-f619cc486d45"
      },
      "source": [
        "!pip install torch==1.4.0\n",
        "!pip install torchtext==0.5.0\n",
        "%matplotlib inline"
      ],
      "execution_count": 8,
      "outputs": [
        {
          "output_type": "stream",
          "text": [
            "Requirement already satisfied: torch==1.4.0 in /usr/local/lib/python3.6/dist-packages (1.4.0)\n",
            "Collecting torchtext==0.5.0\n",
            "  Downloading torchtext-0.5.0-py3-none-any.whl (73 kB)\n",
            "\u001b[K     |████████████████████████████████| 73 kB 1.1 MB/s \n",
            "\u001b[?25hRequirement already satisfied: tqdm in /usr/local/lib/python3.6/dist-packages (from torchtext==0.5.0) (4.38.0)\n",
            "Requirement already satisfied: torch in /usr/local/lib/python3.6/dist-packages (from torchtext==0.5.0) (1.4.0)\n",
            "Requirement already satisfied: requests in /usr/local/lib/python3.6/dist-packages (from torchtext==0.5.0) (2.21.0)\n",
            "Requirement already satisfied: six in /usr/local/lib/python3.6/dist-packages (from torchtext==0.5.0) (1.12.0)\n",
            "Requirement already satisfied: numpy in /usr/local/lib/python3.6/dist-packages (from torchtext==0.5.0) (1.18.2)\n",
            "Collecting sentencepiece\n",
            "  Downloading sentencepiece-0.1.85-cp36-cp36m-manylinux1_x86_64.whl (1.0 MB)\n",
            "\u001b[K     |████████████████████████████████| 1.0 MB 8.0 MB/s \n",
            "\u001b[?25hRequirement already satisfied: urllib3<1.25,>=1.21.1 in /usr/local/lib/python3.6/dist-packages (from requests->torchtext==0.5.0) (1.24.3)\n",
            "Requirement already satisfied: chardet<3.1.0,>=3.0.2 in /usr/local/lib/python3.6/dist-packages (from requests->torchtext==0.5.0) (3.0.4)\n",
            "Requirement already satisfied: idna<2.9,>=2.5 in /usr/local/lib/python3.6/dist-packages (from requests->torchtext==0.5.0) (2.8)\n",
            "Requirement already satisfied: certifi>=2017.4.17 in /usr/local/lib/python3.6/dist-packages (from requests->torchtext==0.5.0) (2020.4.5.1)\n",
            "Installing collected packages: sentencepiece, torchtext\n",
            "  Attempting uninstall: torchtext\n",
            "    Found existing installation: torchtext 0.3.1\n",
            "    Uninstalling torchtext-0.3.1:\n",
            "      Successfully uninstalled torchtext-0.3.1\n",
            "Successfully installed sentencepiece-0.1.85 torchtext-0.5.0\n"
          ],
          "name": "stdout"
        },
        {
          "output_type": "display_data",
          "data": {
            "application/vnd.colab-display-data+json": {
              "pip_warning": {
                "packages": [
                  "torchtext"
                ]
              }
            }
          },
          "metadata": {
            "tags": []
          }
        }
      ]
    },
    {
      "cell_type": "code",
      "metadata": {
        "id": "QO1R2sVBuTQB",
        "colab_type": "code",
        "colab": {}
      },
      "source": [
        "! pip install torchtext"
      ],
      "execution_count": 0,
      "outputs": []
    },
    {
      "cell_type": "code",
      "metadata": {
        "id": "XcQuvOhouLqA",
        "colab_type": "code",
        "colab": {
          "base_uri": "https://localhost:8080/",
          "height": 34
        },
        "outputId": "072ff9dc-ba37-4b9d-8e7c-3ad33e473894"
      },
      "source": [
        "import torchtext\n",
        "print(torchtext.__version__)"
      ],
      "execution_count": 2,
      "outputs": [
        {
          "output_type": "stream",
          "text": [
            "0.5.0\n"
          ],
          "name": "stdout"
        }
      ]
    },
    {
      "cell_type": "code",
      "metadata": {
        "id": "-IAME2L6uN8J",
        "colab_type": "code",
        "colab": {}
      },
      "source": [
        ""
      ],
      "execution_count": 0,
      "outputs": []
    },
    {
      "cell_type": "markdown",
      "metadata": {
        "id": "9ZFbpiCrsfex",
        "colab_type": "text"
      },
      "source": [
        "\n",
        "Text Classification Tutorial\n",
        "============================\n",
        "\n",
        "This tutorial shows how to use the text classification datasets,\n",
        "including\n",
        "\n",
        "::\n",
        "\n",
        "   - AG_NEWS,\n",
        "   - SogouNews, \n",
        "   - DBpedia, \n",
        "   - YelpReviewPolarity,\n",
        "   - YelpReviewFull, \n",
        "   - YahooAnswers, \n",
        "   - AmazonReviewPolarity,\n",
        "   - AmazonReviewFull\n",
        "\n",
        "This example shows the application of ``TextClassification`` Dataset for\n",
        "supervised learning analysis.\n",
        "\n",
        "Load data with ngrams\n",
        "---------------------\n",
        "\n",
        "A bag of ngrams feature is applied to capture some partial information\n",
        "about the local word order. In practice, bi-gram or tri-gram are applied\n",
        "to provide more benefits as word groups than only one word. An example:\n",
        "\n",
        "::\n",
        "\n",
        "   \"load data with ngrams\"\n",
        "   Bi-grams results: \"load data\", \"data with\", \"with ngrams\"\n",
        "   Tri-grams results: \"load data with\", \"data with ngrams\"\n",
        "\n",
        "``TextClassification`` Dataset supports the ngrams method. By setting\n",
        "ngrams to 2, the example text in the dataset will be a list of single\n",
        "words plus bi-grams string.\n",
        "\n",
        "\n"
      ]
    },
    {
      "cell_type": "code",
      "metadata": {
        "id": "nsRGr_ujsfey",
        "colab_type": "code",
        "colab": {
          "base_uri": "https://localhost:8080/",
          "height": 85
        },
        "outputId": "c24c80af-747c-438b-9a1e-24967b46779d"
      },
      "source": [
        "import torch\n",
        "import torchtext\n",
        "#from torchtext.datasets import text_classification\n",
        "from torchtext import datasets\n",
        "NGRAMS = 2\n",
        "import os\n",
        "if not os.path.isdir('./.data'):\n",
        "\tos.mkdir('./.data')\n",
        "#train_dataset, test_dataset = text_classification.DATASETS['AG_NEWS'](root='./.data', ngrams=NGRAMS, vocab=None)\n",
        "train_dataset,test_dataset = datasets.AG_NEWS(ngrams=3)\n",
        "BATCH_SIZE = 16\n",
        "device = torch.device(\"cuda\" if torch.cuda.is_available() else \"cpu\")"
      ],
      "execution_count": 3,
      "outputs": [
        {
          "output_type": "stream",
          "text": [
            "ag_news_csv.tar.gz: 11.8MB [00:00, 154MB/s]\n",
            "120000lines [00:13, 9067.55lines/s]\n",
            "120000lines [00:27, 4351.85lines/s]\n",
            "7600lines [00:01, 4758.17lines/s]\n"
          ],
          "name": "stderr"
        }
      ]
    },
    {
      "cell_type": "code",
      "metadata": {
        "id": "9hOfBd6bt-Ol",
        "colab_type": "code",
        "colab": {
          "base_uri": "https://localhost:8080/",
          "height": 34
        },
        "outputId": "73eb5d21-5dae-4873-c27b-ac44ffc3e8aa"
      },
      "source": [
        "train_dataset"
      ],
      "execution_count": 4,
      "outputs": [
        {
          "output_type": "execute_result",
          "data": {
            "text/plain": [
              "<torchtext.datasets.text_classification.TextClassificationDataset at 0x7f33524376d8>"
            ]
          },
          "metadata": {
            "tags": []
          },
          "execution_count": 4
        }
      ]
    },
    {
      "cell_type": "code",
      "metadata": {
        "id": "dn1Mc5ibwNst",
        "colab_type": "code",
        "colab": {
          "base_uri": "https://localhost:8080/",
          "height": 51
        },
        "outputId": "ba9621c5-336f-4417-af53-1dda4f6d5703"
      },
      "source": [
        "print('Lenght of train dataset ',len(train_dataset))\n",
        "print('Lenght of test dataset ',len(test_dataset))"
      ],
      "execution_count": 5,
      "outputs": [
        {
          "output_type": "stream",
          "text": [
            "Lenght of train dataset  120000\n",
            "Lenght of test dataset  7600\n"
          ],
          "name": "stdout"
        }
      ]
    },
    {
      "cell_type": "code",
      "metadata": {
        "id": "u4R5AjTuwWHD",
        "colab_type": "code",
        "colab": {
          "base_uri": "https://localhost:8080/",
          "height": 221
        },
        "outputId": "78f84ad7-140d-4b27-b19c-41e9248a5011"
      },
      "source": [
        "train_dataset[0]"
      ],
      "execution_count": 6,
      "outputs": [
        {
          "output_type": "execute_result",
          "data": {
            "text/plain": [
              "(2,\n",
              " tensor([    609,     601,       2,    2505,   65419,     160,      96,       3,\n",
              "            1211,      14,      32,      15,      32,      16,  963004,       4,\n",
              "             609,     534,      17,      10, 2015073,       7, 1037580,       4,\n",
              "              53,    7915,    1112,     475,       2,   16848,     715,  224520,\n",
              "          658998,   74344,    8947,     436,   11338, 1650300,      43,      45,\n",
              "             152,     155,  583047,  963005,   68633,     746,   16799,      23,\n",
              "         3292797, 2015074,  879762, 1037581,    4135,  124783,  212521,  771712,\n",
              "            4448,   24823,  975603,  586573,  658999,  691530,   29723,  201721,\n",
              "         3626360, 1650301,      44,     154,     153, 3244489,  583048,  963006,\n",
              "           68634,   18040,   17401, 1098193, 3292798, 2015075,  879763, 1037582,\n",
              "          571700,  642791,  955903,  771713]))"
            ]
          },
          "metadata": {
            "tags": []
          },
          "execution_count": 6
        }
      ]
    },
    {
      "cell_type": "code",
      "metadata": {
        "id": "TDNMIqh-whnX",
        "colab_type": "code",
        "colab": {
          "base_uri": "https://localhost:8080/",
          "height": 289
        },
        "outputId": "4b1e4309-a12b-4168-ebb3-d5b88c5ffd5e"
      },
      "source": [
        "train_dataset[2]"
      ],
      "execution_count": 8,
      "outputs": [
        {
          "output_type": "execute_result",
          "data": {
            "text/plain": [
              "(2,\n",
              " tensor([     86,       9,     503,    9551,     216,      17,    1056,      14,\n",
              "              32,      15,      32,      16,    3991,     638,     132,    3345,\n",
              "          220985,       3,     503,       9,       3,    1056,      12,     392,\n",
              "              53,     344, 1027886,      49,       3,     422,     182,     159,\n",
              "             121,     317,       3,   21891,       7,  538637,   69859,       2,\n",
              "            6244,  140459,  309134,  303001,  267003,  184272,   38480,      43,\n",
              "              45,     152,     155,  122857,  134058,   12330,  343934,  907906,\n",
              "          372640,    2011,    9740,     162,   14336,    6849,   74905,   86629,\n",
              "            4918,  736992, 1027887,     214,    6283,    5415,   81650,    1612,\n",
              "          136787,    1055,  120172,  113504,  879352, 1010901,  165899,  338120,\n",
              "          291897,  309135,  303002,  355553,  565482,   63031,      44,     154,\n",
              "             153,  935469,  282376,  213445,  305470,  913950,  907907, 1068954,\n",
              "           20084,   55622,  124570,   21303,  258092,  313474,  308889,  642318,\n",
              "          736993, 1027888,  340506,   18348,  979746,  843536,  485685,  219947,\n",
              "          308658,  180029,  715212,  879353, 1010902]))"
            ]
          },
          "metadata": {
            "tags": []
          },
          "execution_count": 8
        }
      ]
    },
    {
      "cell_type": "code",
      "metadata": {
        "id": "aS5bPSUtwr8z",
        "colab_type": "code",
        "colab": {}
      },
      "source": [
        "classes = []\n",
        "for instance in train_dataset:\n",
        "  classes.append(instance[0])"
      ],
      "execution_count": 0,
      "outputs": []
    },
    {
      "cell_type": "code",
      "metadata": {
        "id": "T1tMvP1Lw2sB",
        "colab_type": "code",
        "colab": {
          "base_uri": "https://localhost:8080/",
          "height": 34
        },
        "outputId": "41c52fe6-92ef-4b06-c9fe-5988e0630862"
      },
      "source": [
        "#Distinct classes\n",
        "set(classes)"
      ],
      "execution_count": 11,
      "outputs": [
        {
          "output_type": "execute_result",
          "data": {
            "text/plain": [
              "{0, 1, 2, 3}"
            ]
          },
          "metadata": {
            "tags": []
          },
          "execution_count": 11
        }
      ]
    },
    {
      "cell_type": "code",
      "metadata": {
        "id": "dL-52ku6w3lr",
        "colab_type": "code",
        "colab": {
          "base_uri": "https://localhost:8080/",
          "height": 34
        },
        "outputId": "04c0adef-e65b-40af-bd01-1d1a3ef5af49"
      },
      "source": [
        "train_dataset[0][1].shape"
      ],
      "execution_count": 15,
      "outputs": [
        {
          "output_type": "execute_result",
          "data": {
            "text/plain": [
              "torch.Size([84])"
            ]
          },
          "metadata": {
            "tags": []
          },
          "execution_count": 15
        }
      ]
    },
    {
      "cell_type": "code",
      "metadata": {
        "id": "q0YXZev_2tan",
        "colab_type": "code",
        "colab": {}
      },
      "source": [
        "import torch.nn as nn\n",
        "embedding_sum = nn.EmbeddingBag(10, 3, mode='sum')"
      ],
      "execution_count": 0,
      "outputs": []
    },
    {
      "cell_type": "code",
      "metadata": {
        "id": "A5w4VgST2_9B",
        "colab_type": "code",
        "colab": {}
      },
      "source": [
        "input = torch.LongTensor([1,2,4,5,4,3,2,9])"
      ],
      "execution_count": 0,
      "outputs": []
    },
    {
      "cell_type": "code",
      "metadata": {
        "id": "DefNw19d3KJS",
        "colab_type": "code",
        "colab": {}
      },
      "source": [
        "offsets = torch.LongTensor([0,4])"
      ],
      "execution_count": 0,
      "outputs": []
    },
    {
      "cell_type": "code",
      "metadata": {
        "id": "S6_XQYnv3R0u",
        "colab_type": "code",
        "colab": {
          "base_uri": "https://localhost:8080/",
          "height": 51
        },
        "outputId": "eb20c5c4-813c-448c-8d5d-4db06c374a2e"
      },
      "source": [
        "embedding_sum(input, offsets)"
      ],
      "execution_count": 20,
      "outputs": [
        {
          "output_type": "execute_result",
          "data": {
            "text/plain": [
              "tensor([[ 1.5007,  3.0330, -1.5275],\n",
              "        [ 5.1492,  1.2104, -1.5760]], grad_fn=<EmbeddingBagBackward>)"
            ]
          },
          "metadata": {
            "tags": []
          },
          "execution_count": 20
        }
      ]
    },
    {
      "cell_type": "code",
      "metadata": {
        "id": "B1K0tA8a3aQh",
        "colab_type": "code",
        "colab": {}
      },
      "source": [
        "embedding = nn.Embedding(10,3)"
      ],
      "execution_count": 0,
      "outputs": []
    },
    {
      "cell_type": "code",
      "metadata": {
        "id": "s-DRgza73v-5",
        "colab_type": "code",
        "colab": {}
      },
      "source": [
        "input = torch.LongTensor([[1,2,4,5],[4,3,2,9]])"
      ],
      "execution_count": 0,
      "outputs": []
    },
    {
      "cell_type": "code",
      "metadata": {
        "id": "IX71C8PU3xS0",
        "colab_type": "code",
        "colab": {
          "base_uri": "https://localhost:8080/",
          "height": 170
        },
        "outputId": "ef55c48f-d893-4a6e-bea1-557c881447e5"
      },
      "source": [
        "embedding(input)"
      ],
      "execution_count": 27,
      "outputs": [
        {
          "output_type": "execute_result",
          "data": {
            "text/plain": [
              "tensor([[[-0.1018, -1.9861, -0.6886],\n",
              "         [ 0.0060,  2.2513, -0.1723],\n",
              "         [ 1.2635, -1.4225, -0.3590],\n",
              "         [ 0.1057, -0.3573,  1.1140]],\n",
              "\n",
              "        [[ 1.2635, -1.4225, -0.3590],\n",
              "         [ 0.1663, -0.2582, -0.8763],\n",
              "         [ 0.0060,  2.2513, -0.1723],\n",
              "         [-0.3801, -1.0876, -0.1638]]], grad_fn=<EmbeddingBackward>)"
            ]
          },
          "metadata": {
            "tags": []
          },
          "execution_count": 27
        }
      ]
    },
    {
      "cell_type": "code",
      "metadata": {
        "id": "wJaTcWZL4uCo",
        "colab_type": "code",
        "colab": {
          "base_uri": "https://localhost:8080/",
          "height": 34
        },
        "outputId": "00e5886a-507e-42bd-fb7b-2c24211c0ecc"
      },
      "source": [
        "(-0.1018+0.0060+1.2635+0.1057)/4"
      ],
      "execution_count": 29,
      "outputs": [
        {
          "output_type": "execute_result",
          "data": {
            "text/plain": [
              "0.31834999999999997"
            ]
          },
          "metadata": {
            "tags": []
          },
          "execution_count": 29
        }
      ]
    },
    {
      "cell_type": "markdown",
      "metadata": {
        "id": "ZRnIlfxdsfe3",
        "colab_type": "text"
      },
      "source": [
        "Define the model\n",
        "----------------\n",
        "\n",
        "The model is composed of the\n",
        "`EmbeddingBag <https://pytorch.org/docs/stable/nn.html?highlight=embeddingbag#torch.nn.EmbeddingBag>`__\n",
        "layer and the linear layer (see the figure below). ``nn.EmbeddingBag``\n",
        "computes the mean value of a “bag” of embeddings. The text entries here\n",
        "have different lengths. ``nn.EmbeddingBag`` requires no padding here\n",
        "since the text lengths are saved in offsets.\n",
        "\n",
        "Additionally, since ``nn.EmbeddingBag`` accumulates the average across\n",
        "the embeddings on the fly, ``nn.EmbeddingBag`` can enhance the\n",
        "performance and memory efficiency to process a sequence of tensors.\n",
        "\n",
        "![](https://github.com/pytorch/tutorials/blob/gh-pages/_static/img/text_sentiment_ngrams_model.png?raw=1)\n",
        "\n",
        "\n",
        "\n"
      ]
    },
    {
      "cell_type": "code",
      "metadata": {
        "id": "PcHtDXRdsfe4",
        "colab_type": "code",
        "colab": {}
      },
      "source": [
        "import torch.nn as nn\n",
        "import torch.nn.functional as F\n",
        "class TextSentiment(nn.Module):\n",
        "    def __init__(self, vocab_size, embed_dim, num_class):\n",
        "        super().__init__()\n",
        "        self.embedding = nn.EmbeddingBag(vocab_size, embed_dim, sparse=True)\n",
        "        self.fc = nn.Linear(embed_dim, num_class)\n",
        "        self.init_weights()\n",
        "\n",
        "    def init_weights(self):\n",
        "        initrange = 0.5\n",
        "        self.embedding.weight.data.uniform_(-initrange, initrange)\n",
        "        self.fc.weight.data.uniform_(-initrange, initrange)\n",
        "        self.fc.bias.data.zero_()\n",
        "        \n",
        "    def forward(self, text, offsets):\n",
        "        embedded = self.embedding(text, offsets)\n",
        "        return self.fc(embedded)"
      ],
      "execution_count": 0,
      "outputs": []
    },
    {
      "cell_type": "markdown",
      "metadata": {
        "id": "QlJeeCVRsfe-",
        "colab_type": "text"
      },
      "source": [
        "Initiate an instance\n",
        "--------------------\n",
        "\n",
        "The AG_NEWS dataset has four labels and therefore the number of classes\n",
        "is four.\n",
        "\n",
        "::\n",
        "\n",
        "   1 : World\n",
        "   2 : Sports\n",
        "   3 : Business\n",
        "   4 : Sci/Tec\n",
        "\n",
        "The vocab size is equal to the length of vocab (including single word\n",
        "and ngrams). The number of classes is equal to the number of labels,\n",
        "which is four in AG_NEWS case.\n",
        "\n",
        "\n"
      ]
    },
    {
      "cell_type": "code",
      "metadata": {
        "id": "PMT9DVmXsfe_",
        "colab_type": "code",
        "colab": {}
      },
      "source": [
        "VOCAB_SIZE = len(train_dataset.get_vocab())\n",
        "EMBED_DIM = 32\n",
        "NUN_CLASS = len(train_dataset.get_labels())\n",
        "model = TextSentiment(VOCAB_SIZE, EMBED_DIM, NUN_CLASS).to(device)"
      ],
      "execution_count": 0,
      "outputs": []
    },
    {
      "cell_type": "markdown",
      "metadata": {
        "id": "DdqROt9isffD",
        "colab_type": "text"
      },
      "source": [
        "Functions used to generate batch\n",
        "--------------------------------\n",
        "\n",
        "\n"
      ]
    },
    {
      "cell_type": "markdown",
      "metadata": {
        "id": "N-aKSmn3sffF",
        "colab_type": "text"
      },
      "source": [
        "Since the text entries have different lengths, a custom function\n",
        "generate_batch() is used to generate data batches and offsets. The\n",
        "function is passed to ``collate_fn`` in ``torch.utils.data.DataLoader``.\n",
        "The input to ``collate_fn`` is a list of tensors with the size of\n",
        "batch_size, and the ``collate_fn`` function packs them into a\n",
        "mini-batch. Pay attention here and make sure that ``collate_fn`` is\n",
        "declared as a top level def. This ensures that the function is available\n",
        "in each worker.\n",
        "\n",
        "The text entries in the original data batch input are packed into a list\n",
        "and concatenated as a single tensor as the input of ``nn.EmbeddingBag``.\n",
        "The offsets is a tensor of delimiters to represent the beginning index\n",
        "of the individual sequence in the text tensor. Label is a tensor saving\n",
        "the labels of individual text entries.\n",
        "\n",
        "\n"
      ]
    },
    {
      "cell_type": "code",
      "metadata": {
        "id": "lwxrtNv7sffG",
        "colab_type": "code",
        "colab": {}
      },
      "source": [
        "def generate_batch(batch):\n",
        "    label = torch.tensor([entry[0] for entry in batch])\n",
        "    text = [entry[1] for entry in batch]\n",
        "    offsets = [0] + [len(entry) for entry in text]\n",
        "    # torch.Tensor.cumsum returns the cumulative sum\n",
        "    # of elements in the dimension dim.\n",
        "    # torch.Tensor([1.0, 2.0, 3.0]).cumsum(dim=0)\n",
        "    \n",
        "    offsets = torch.tensor(offsets[:-1]).cumsum(dim=0)\n",
        "    text = torch.cat(text)\n",
        "    return text, offsets, label"
      ],
      "execution_count": 0,
      "outputs": []
    },
    {
      "cell_type": "code",
      "metadata": {
        "id": "1T2FDtYHCDH2",
        "colab_type": "code",
        "colab": {
          "base_uri": "https://localhost:8080/",
          "height": 34
        },
        "outputId": "419c7f5d-d012-4e3b-b4d0-68b18e594258"
      },
      "source": [
        "ab1 = torch.Tensor([1,2,3])\n",
        "ab2 = torch.Tensor([4,5,6])\n",
        "t =  [ab1,ab2]\n",
        "torch.cat(t)"
      ],
      "execution_count": 30,
      "outputs": [
        {
          "output_type": "execute_result",
          "data": {
            "text/plain": [
              "tensor([1., 2., 3., 4., 5., 6.])"
            ]
          },
          "metadata": {
            "tags": []
          },
          "execution_count": 30
        }
      ]
    },
    {
      "cell_type": "code",
      "metadata": {
        "id": "S_3mTEhFCV-m",
        "colab_type": "code",
        "colab": {
          "base_uri": "https://localhost:8080/",
          "height": 34
        },
        "outputId": "fa07b2a7-123f-4ec3-f786-2c015cc82a3d"
      },
      "source": [
        "torch.Tensor([0,83,124]).cumsum(dim=0)"
      ],
      "execution_count": 33,
      "outputs": [
        {
          "output_type": "execute_result",
          "data": {
            "text/plain": [
              "tensor([  0.,  83., 207.])"
            ]
          },
          "metadata": {
            "tags": []
          },
          "execution_count": 33
        }
      ]
    },
    {
      "cell_type": "markdown",
      "metadata": {
        "id": "PmpIrGNQsffM",
        "colab_type": "text"
      },
      "source": [
        "Define functions to train the model and evaluate results.\n",
        "---------------------------------------------------------\n",
        "\n",
        "\n"
      ]
    },
    {
      "cell_type": "markdown",
      "metadata": {
        "id": "j-rufjn8sffM",
        "colab_type": "text"
      },
      "source": [
        "`torch.utils.data.DataLoader <https://pytorch.org/docs/stable/data.html?highlight=dataloader#torch.utils.data.DataLoader>`__\n",
        "is recommended for PyTorch users, and it makes data loading in parallel\n",
        "easily (a tutorial is\n",
        "`here <https://pytorch.org/tutorials/beginner/data_loading_tutorial.html>`__).\n",
        "We use ``DataLoader`` here to load AG_NEWS datasets and send it to the\n",
        "model for training/validation.\n",
        "\n",
        "\n"
      ]
    },
    {
      "cell_type": "code",
      "metadata": {
        "id": "akID96RGsffO",
        "colab_type": "code",
        "colab": {}
      },
      "source": [
        "from torch.utils.data import DataLoader\n",
        "\n",
        "def train_func(sub_train_):\n",
        "\n",
        "    # Train the model\n",
        "    train_loss = 0\n",
        "    train_acc = 0\n",
        "    data = DataLoader(sub_train_, batch_size=BATCH_SIZE, shuffle=True,\n",
        "                      collate_fn=generate_batch)\n",
        "    for i, (text, offsets, cls) in enumerate(data):\n",
        "        optimizer.zero_grad()\n",
        "        text, offsets, cls = text.to(device), offsets.to(device), cls.to(device)\n",
        "        output = model(text, offsets)\n",
        "        loss = criterion(output, cls)\n",
        "        train_loss += loss.item()\n",
        "        loss.backward()\n",
        "        optimizer.step()\n",
        "        train_acc += (output.argmax(1) == cls).sum().item()\n",
        "\n",
        "    # Adjust the learning rate\n",
        "    scheduler.step()\n",
        "    \n",
        "    return train_loss / len(sub_train_), train_acc / len(sub_train_)\n",
        "\n",
        "def test(data_):\n",
        "    loss = 0\n",
        "    acc = 0\n",
        "    data = DataLoader(data_, batch_size=BATCH_SIZE, collate_fn=generate_batch)\n",
        "    for text, offsets, cls in data:\n",
        "        text, offsets, cls = text.to(device), offsets.to(device), cls.to(device)\n",
        "        with torch.no_grad():\n",
        "            output = model(text, offsets)\n",
        "            loss = criterion(output, cls)\n",
        "            loss += loss.item()\n",
        "            acc += (output.argmax(1) == cls).sum().item()\n",
        "\n",
        "    return loss / len(data_), acc / len(data_)"
      ],
      "execution_count": 0,
      "outputs": []
    },
    {
      "cell_type": "markdown",
      "metadata": {
        "id": "SOGtPklOsffT",
        "colab_type": "text"
      },
      "source": [
        "Split the dataset and run the model\n",
        "-----------------------------------\n",
        "\n",
        "Since the original AG_NEWS has no valid dataset, we split the training\n",
        "dataset into train/valid sets with a split ratio of 0.95 (train) and\n",
        "0.05 (valid). Here we use\n",
        "`torch.utils.data.dataset.random_split <https://pytorch.org/docs/stable/data.html?highlight=random_split#torch.utils.data.random_split>`__\n",
        "function in PyTorch core library.\n",
        "\n",
        "`CrossEntropyLoss <https://pytorch.org/docs/stable/nn.html?highlight=crossentropyloss#torch.nn.CrossEntropyLoss>`__\n",
        "criterion combines nn.LogSoftmax() and nn.NLLLoss() in a single class.\n",
        "It is useful when training a classification problem with C classes.\n",
        "`SGD <https://pytorch.org/docs/stable/_modules/torch/optim/sgd.html>`__\n",
        "implements stochastic gradient descent method as optimizer. The initial\n",
        "learning rate is set to 4.0.\n",
        "`StepLR <https://pytorch.org/docs/master/_modules/torch/optim/lr_scheduler.html#StepLR>`__\n",
        "is used here to adjust the learning rate through epochs.\n",
        "\n",
        "\n"
      ]
    },
    {
      "cell_type": "code",
      "metadata": {
        "id": "J6zo0YVwsffU",
        "colab_type": "code",
        "colab": {
          "base_uri": "https://localhost:8080/",
          "height": 272
        },
        "outputId": "436a9d5b-051d-4620-b8bb-367476ddbba8"
      },
      "source": [
        "import time\n",
        "from torch.utils.data.dataset import random_split\n",
        "N_EPOCHS = 5\n",
        "min_valid_loss = float('inf')\n",
        "\n",
        "criterion = torch.nn.CrossEntropyLoss().to(device)\n",
        "optimizer = torch.optim.SGD(model.parameters(), lr=4.0)\n",
        "scheduler = torch.optim.lr_scheduler.StepLR(optimizer, 1, gamma=0.9)\n",
        "\n",
        "train_len = int(len(train_dataset) * 0.95)\n",
        "sub_train_, sub_valid_ = \\\n",
        "    random_split(train_dataset, [train_len, len(train_dataset) - train_len])\n",
        "\n",
        "for epoch in range(N_EPOCHS):\n",
        "\n",
        "    start_time = time.time()\n",
        "    train_loss, train_acc = train_func(sub_train_)\n",
        "    valid_loss, valid_acc = test(sub_valid_)\n",
        "\n",
        "    secs = int(time.time() - start_time)\n",
        "    mins = secs / 60\n",
        "    secs = secs % 60\n",
        "\n",
        "    print('Epoch: %d' %(epoch + 1), \" | time in %d minutes, %d seconds\" %(mins, secs))\n",
        "    print(f'\\tLoss: {train_loss:.4f}(train)\\t|\\tAcc: {train_acc * 100:.1f}%(train)')\n",
        "    print(f'\\tLoss: {valid_loss:.4f}(valid)\\t|\\tAcc: {valid_acc * 100:.1f}%(valid)')"
      ],
      "execution_count": 39,
      "outputs": [
        {
          "output_type": "stream",
          "text": [
            "Epoch: 1  | time in 0 minutes, 44 seconds\n",
            "\tLoss: 0.0281(train)\t|\tAcc: 83.2%(train)\n",
            "\tLoss: 0.0000(valid)\t|\tAcc: 90.1%(valid)\n",
            "Epoch: 2  | time in 0 minutes, 42 seconds\n",
            "\tLoss: 0.0101(train)\t|\tAcc: 94.7%(train)\n",
            "\tLoss: 0.0000(valid)\t|\tAcc: 90.1%(valid)\n",
            "Epoch: 3  | time in 0 minutes, 42 seconds\n",
            "\tLoss: 0.0043(train)\t|\tAcc: 98.1%(train)\n",
            "\tLoss: 0.0001(valid)\t|\tAcc: 90.2%(valid)\n",
            "Epoch: 4  | time in 0 minutes, 41 seconds\n",
            "\tLoss: 0.0020(train)\t|\tAcc: 99.3%(train)\n",
            "\tLoss: 0.0001(valid)\t|\tAcc: 90.3%(valid)\n",
            "Epoch: 5  | time in 0 minutes, 42 seconds\n",
            "\tLoss: 0.0012(train)\t|\tAcc: 99.6%(train)\n",
            "\tLoss: 0.0001(valid)\t|\tAcc: 90.4%(valid)\n"
          ],
          "name": "stdout"
        }
      ]
    },
    {
      "cell_type": "markdown",
      "metadata": {
        "id": "EBtzJHYSsffY",
        "colab_type": "text"
      },
      "source": [
        "Running the model on GPU with the following information:\n",
        "\n",
        "Epoch: 1 \\| time in 0 minutes, 11 seconds\n",
        "\n",
        "::\n",
        "\n",
        "       Loss: 0.0263(train)     |       Acc: 84.5%(train)\n",
        "       Loss: 0.0001(valid)     |       Acc: 89.0%(valid)\n",
        "\n",
        "\n",
        "Epoch: 2 \\| time in 0 minutes, 10 seconds\n",
        "\n",
        "::\n",
        "\n",
        "       Loss: 0.0119(train)     |       Acc: 93.6%(train)\n",
        "       Loss: 0.0000(valid)     |       Acc: 89.6%(valid)\n",
        "\n",
        "\n",
        "Epoch: 3 \\| time in 0 minutes, 9 seconds\n",
        "\n",
        "::\n",
        "\n",
        "       Loss: 0.0069(train)     |       Acc: 96.4%(train)\n",
        "       Loss: 0.0000(valid)     |       Acc: 90.5%(valid)\n",
        "\n",
        "\n",
        "Epoch: 4 \\| time in 0 minutes, 11 seconds\n",
        "\n",
        "::\n",
        "\n",
        "       Loss: 0.0038(train)     |       Acc: 98.2%(train)\n",
        "       Loss: 0.0000(valid)     |       Acc: 90.4%(valid)\n",
        "\n",
        "\n",
        "Epoch: 5 \\| time in 0 minutes, 11 seconds\n",
        "\n",
        "::\n",
        "\n",
        "       Loss: 0.0022(train)     |       Acc: 99.0%(train)\n",
        "       Loss: 0.0000(valid)     |       Acc: 91.0%(valid)        \n",
        "\n",
        "\n"
      ]
    },
    {
      "cell_type": "markdown",
      "metadata": {
        "id": "vWRYOZ3xsffY",
        "colab_type": "text"
      },
      "source": [
        "Evaluate the model with test dataset\n",
        "------------------------------------\n",
        "\n",
        "\n"
      ]
    },
    {
      "cell_type": "code",
      "metadata": {
        "id": "7nH1MqX9sffa",
        "colab_type": "code",
        "colab": {
          "base_uri": "https://localhost:8080/",
          "height": 51
        },
        "outputId": "c4704661-c65e-4381-8323-07ac466f9599"
      },
      "source": [
        "print('Checking the results of test dataset...')\n",
        "test_loss, test_acc = test(test_dataset)\n",
        "print(f'\\tLoss: {test_loss:.4f}(test)\\t|\\tAcc: {test_acc * 100:.1f}%(test)')"
      ],
      "execution_count": 41,
      "outputs": [
        {
          "output_type": "stream",
          "text": [
            "Checking the results of test dataset...\n",
            "\tLoss: 0.0003(test)\t|\tAcc: 75.7%(test)\n"
          ],
          "name": "stdout"
        }
      ]
    },
    {
      "cell_type": "markdown",
      "metadata": {
        "id": "CmE3yOmjsfff",
        "colab_type": "text"
      },
      "source": [
        "Checking the results of test dataset…\n",
        "\n",
        "::\n",
        "\n",
        "       Loss: 0.0237(test)      |       Acc: 90.5%(test)\n",
        "\n",
        "\n"
      ]
    },
    {
      "cell_type": "markdown",
      "metadata": {
        "id": "rGdmMb4Dsfff",
        "colab_type": "text"
      },
      "source": [
        "Test on a random news\n",
        "---------------------\n",
        "\n",
        "Use the best model so far and test a golf news. The label information is\n",
        "available\n",
        "`here <https://pytorch.org/text/datasets.html?highlight=ag_news#torchtext.datasets.AG_NEWS>`__.\n",
        "\n",
        "\n"
      ]
    },
    {
      "cell_type": "code",
      "metadata": {
        "id": "91_nBOeysffg",
        "colab_type": "code",
        "colab": {
          "base_uri": "https://localhost:8080/",
          "height": 34
        },
        "outputId": "b5aa38ea-a4f0-402e-8fbb-26dd8da662ef"
      },
      "source": [
        "import re\n",
        "from torchtext.data.utils import ngrams_iterator\n",
        "from torchtext.data.utils import get_tokenizer\n",
        "\n",
        "ag_news_label = {1 : \"World\",\n",
        "                 2 : \"Sports\",\n",
        "                 3 : \"Business\",\n",
        "                 4 : \"Sci/Tec\"}\n",
        "\n",
        "def predict(text, model, vocab, ngrams):\n",
        "    tokenizer = get_tokenizer(\"basic_english\")\n",
        "    with torch.no_grad():\n",
        "        text = torch.tensor([vocab[token]\n",
        "                            for token in ngrams_iterator(tokenizer(text), ngrams)])\n",
        "        output = model(text, torch.tensor([0]))\n",
        "        return output.argmax(1).item() + 1\n",
        "\n",
        "ex_text_str = \"MEMPHIS, Tenn. – Four days ago, Jon Rahm was \\\n",
        "    enduring the season’s worst weather conditions on Sunday at The \\\n",
        "    Open on his way to a closing 75 at Royal Portrush, which \\\n",
        "    considering the wind and the rain was a respectable showing. \\\n",
        "    Thursday’s first round at the WGC-FedEx St. Jude Invitational \\\n",
        "    was another story. With temperatures in the mid-80s and hardly any \\\n",
        "    wind, the Spaniard was 13 strokes better in a flawless round. \\\n",
        "    Thanks to his best putting performance on the PGA Tour, Rahm \\\n",
        "    finished with an 8-under 62 for a three-stroke lead, which \\\n",
        "    was even more impressive considering he’d never played the \\\n",
        "    front nine at TPC Southwind.\"\n",
        "\n",
        "vocab = train_dataset.get_vocab()\n",
        "model = model.to(\"cpu\")\n",
        "\n",
        "print(\"This is a %s news\" %ag_news_label[predict(ex_text_str, model, vocab, 2)])"
      ],
      "execution_count": 42,
      "outputs": [
        {
          "output_type": "stream",
          "text": [
            "This is a Sports news\n"
          ],
          "name": "stdout"
        }
      ]
    },
    {
      "cell_type": "markdown",
      "metadata": {
        "id": "BHfw7pVosffm",
        "colab_type": "text"
      },
      "source": [
        "This is a Sports news\n",
        "\n",
        "\n"
      ]
    },
    {
      "cell_type": "markdown",
      "metadata": {
        "id": "Cd5NvR4Asffn",
        "colab_type": "text"
      },
      "source": [
        "You can find the code examples displayed in this note\n",
        "`here <https://github.com/pytorch/text/tree/master/examples/text_classification>`__.\n",
        "\n",
        "\n"
      ]
    }
  ]
}